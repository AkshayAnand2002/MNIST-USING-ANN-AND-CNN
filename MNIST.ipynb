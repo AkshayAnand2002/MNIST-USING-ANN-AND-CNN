{
  "nbformat": 4,
  "nbformat_minor": 0,
  "metadata": {
    "colab": {
      "provenance": []
    },
    "kernelspec": {
      "name": "python3",
      "display_name": "Python 3"
    },
    "language_info": {
      "name": "python"
    }
  },
  "cells": [
    {
      "cell_type": "code",
      "execution_count": 1,
      "metadata": {
        "id": "S7PJ2RokWSQ7"
      },
      "outputs": [],
      "source": [
        "import torch\n",
        "import torch.nn as nn\n",
        "import torch.nn.functional as F          # adds some efficiency\n",
        "from torch.utils.data import DataLoader  #for loading data in batches\n",
        "from torchvision import datasets, transforms\n",
        "import numpy as np\n",
        "import pandas as pd\n",
        "from sklearn.metrics import confusion_matrix,classification_report  # for evaluating results\n",
        "import matplotlib.pyplot as plt\n",
        "%matplotlib inline"
      ]
    },
    {
      "cell_type": "code",
      "source": [
        "transform=transforms.ToTensor()"
      ],
      "metadata": {
        "id": "Fx7bj7sFWrvQ"
      },
      "execution_count": 2,
      "outputs": []
    },
    {
      "cell_type": "code",
      "source": [
        "train_data=datasets.MNIST(root='/content/sample_data',train=True,download=True,transform=transform)\n",
        "train_data"
      ],
      "metadata": {
        "colab": {
          "base_uri": "https://localhost:8080/"
        },
        "id": "dsyPFSLQY4rM",
        "outputId": "2bbef18b-6727-472a-ce7a-0e3c08886988"
      },
      "execution_count": 3,
      "outputs": [
        {
          "output_type": "stream",
          "name": "stdout",
          "text": [
            "Downloading http://yann.lecun.com/exdb/mnist/train-images-idx3-ubyte.gz\n",
            "Failed to download (trying next):\n",
            "HTTP Error 403: Forbidden\n",
            "\n",
            "Downloading https://ossci-datasets.s3.amazonaws.com/mnist/train-images-idx3-ubyte.gz\n",
            "Downloading https://ossci-datasets.s3.amazonaws.com/mnist/train-images-idx3-ubyte.gz to /content/sample_data/MNIST/raw/train-images-idx3-ubyte.gz\n"
          ]
        },
        {
          "output_type": "stream",
          "name": "stderr",
          "text": [
            "100%|██████████| 9912422/9912422 [00:00<00:00, 15795030.64it/s]\n"
          ]
        },
        {
          "output_type": "stream",
          "name": "stdout",
          "text": [
            "Extracting /content/sample_data/MNIST/raw/train-images-idx3-ubyte.gz to /content/sample_data/MNIST/raw\n",
            "\n",
            "Downloading http://yann.lecun.com/exdb/mnist/train-labels-idx1-ubyte.gz\n",
            "Failed to download (trying next):\n",
            "HTTP Error 403: Forbidden\n",
            "\n",
            "Downloading https://ossci-datasets.s3.amazonaws.com/mnist/train-labels-idx1-ubyte.gz\n",
            "Downloading https://ossci-datasets.s3.amazonaws.com/mnist/train-labels-idx1-ubyte.gz to /content/sample_data/MNIST/raw/train-labels-idx1-ubyte.gz\n"
          ]
        },
        {
          "output_type": "stream",
          "name": "stderr",
          "text": [
            "100%|██████████| 28881/28881 [00:00<00:00, 489650.81it/s]\n"
          ]
        },
        {
          "output_type": "stream",
          "name": "stdout",
          "text": [
            "Extracting /content/sample_data/MNIST/raw/train-labels-idx1-ubyte.gz to /content/sample_data/MNIST/raw\n",
            "\n",
            "Downloading http://yann.lecun.com/exdb/mnist/t10k-images-idx3-ubyte.gz\n",
            "Failed to download (trying next):\n",
            "HTTP Error 403: Forbidden\n",
            "\n",
            "Downloading https://ossci-datasets.s3.amazonaws.com/mnist/t10k-images-idx3-ubyte.gz\n",
            "Downloading https://ossci-datasets.s3.amazonaws.com/mnist/t10k-images-idx3-ubyte.gz to /content/sample_data/MNIST/raw/t10k-images-idx3-ubyte.gz\n"
          ]
        },
        {
          "output_type": "stream",
          "name": "stderr",
          "text": [
            "100%|██████████| 1648877/1648877 [00:00<00:00, 4396918.67it/s]\n"
          ]
        },
        {
          "output_type": "stream",
          "name": "stdout",
          "text": [
            "Extracting /content/sample_data/MNIST/raw/t10k-images-idx3-ubyte.gz to /content/sample_data/MNIST/raw\n",
            "\n",
            "Downloading http://yann.lecun.com/exdb/mnist/t10k-labels-idx1-ubyte.gz\n",
            "Failed to download (trying next):\n",
            "HTTP Error 403: Forbidden\n",
            "\n",
            "Downloading https://ossci-datasets.s3.amazonaws.com/mnist/t10k-labels-idx1-ubyte.gz\n",
            "Downloading https://ossci-datasets.s3.amazonaws.com/mnist/t10k-labels-idx1-ubyte.gz to /content/sample_data/MNIST/raw/t10k-labels-idx1-ubyte.gz\n"
          ]
        },
        {
          "output_type": "stream",
          "name": "stderr",
          "text": [
            "100%|██████████| 4542/4542 [00:00<00:00, 2753364.47it/s]"
          ]
        },
        {
          "output_type": "stream",
          "name": "stdout",
          "text": [
            "Extracting /content/sample_data/MNIST/raw/t10k-labels-idx1-ubyte.gz to /content/sample_data/MNIST/raw\n",
            "\n"
          ]
        },
        {
          "output_type": "stream",
          "name": "stderr",
          "text": [
            "\n"
          ]
        },
        {
          "output_type": "execute_result",
          "data": {
            "text/plain": [
              "Dataset MNIST\n",
              "    Number of datapoints: 60000\n",
              "    Root location: /content/sample_data\n",
              "    Split: Train\n",
              "    StandardTransform\n",
              "Transform: ToTensor()"
            ]
          },
          "metadata": {},
          "execution_count": 3
        }
      ]
    },
    {
      "cell_type": "code",
      "source": [
        "test_data=datasets.MNIST(root='/content/sample_data',train=False,download=True,transform=transform)\n",
        "test_data"
      ],
      "metadata": {
        "colab": {
          "base_uri": "https://localhost:8080/"
        },
        "id": "atm-3n5SZVeB",
        "outputId": "c91d4ef2-08d6-4b03-ad97-b8b74ad548e6"
      },
      "execution_count": 4,
      "outputs": [
        {
          "output_type": "execute_result",
          "data": {
            "text/plain": [
              "Dataset MNIST\n",
              "    Number of datapoints: 10000\n",
              "    Root location: /content/sample_data\n",
              "    Split: Test\n",
              "    StandardTransform\n",
              "Transform: ToTensor()"
            ]
          },
          "metadata": {},
          "execution_count": 4
        }
      ]
    },
    {
      "cell_type": "code",
      "source": [
        "train_data[0]"
      ],
      "metadata": {
        "colab": {
          "base_uri": "https://localhost:8080/"
        },
        "id": "imK9tTAYZpMJ",
        "outputId": "b7b37c56-8a95-4de2-b368-1964e2569976"
      },
      "execution_count": 5,
      "outputs": [
        {
          "output_type": "execute_result",
          "data": {
            "text/plain": [
              "(tensor([[[0.0000, 0.0000, 0.0000, 0.0000, 0.0000, 0.0000, 0.0000, 0.0000,\n",
              "           0.0000, 0.0000, 0.0000, 0.0000, 0.0000, 0.0000, 0.0000, 0.0000,\n",
              "           0.0000, 0.0000, 0.0000, 0.0000, 0.0000, 0.0000, 0.0000, 0.0000,\n",
              "           0.0000, 0.0000, 0.0000, 0.0000],\n",
              "          [0.0000, 0.0000, 0.0000, 0.0000, 0.0000, 0.0000, 0.0000, 0.0000,\n",
              "           0.0000, 0.0000, 0.0000, 0.0000, 0.0000, 0.0000, 0.0000, 0.0000,\n",
              "           0.0000, 0.0000, 0.0000, 0.0000, 0.0000, 0.0000, 0.0000, 0.0000,\n",
              "           0.0000, 0.0000, 0.0000, 0.0000],\n",
              "          [0.0000, 0.0000, 0.0000, 0.0000, 0.0000, 0.0000, 0.0000, 0.0000,\n",
              "           0.0000, 0.0000, 0.0000, 0.0000, 0.0000, 0.0000, 0.0000, 0.0000,\n",
              "           0.0000, 0.0000, 0.0000, 0.0000, 0.0000, 0.0000, 0.0000, 0.0000,\n",
              "           0.0000, 0.0000, 0.0000, 0.0000],\n",
              "          [0.0000, 0.0000, 0.0000, 0.0000, 0.0000, 0.0000, 0.0000, 0.0000,\n",
              "           0.0000, 0.0000, 0.0000, 0.0000, 0.0000, 0.0000, 0.0000, 0.0000,\n",
              "           0.0000, 0.0000, 0.0000, 0.0000, 0.0000, 0.0000, 0.0000, 0.0000,\n",
              "           0.0000, 0.0000, 0.0000, 0.0000],\n",
              "          [0.0000, 0.0000, 0.0000, 0.0000, 0.0000, 0.0000, 0.0000, 0.0000,\n",
              "           0.0000, 0.0000, 0.0000, 0.0000, 0.0000, 0.0000, 0.0000, 0.0000,\n",
              "           0.0000, 0.0000, 0.0000, 0.0000, 0.0000, 0.0000, 0.0000, 0.0000,\n",
              "           0.0000, 0.0000, 0.0000, 0.0000],\n",
              "          [0.0000, 0.0000, 0.0000, 0.0000, 0.0000, 0.0000, 0.0000, 0.0000,\n",
              "           0.0000, 0.0000, 0.0000, 0.0000, 0.0118, 0.0706, 0.0706, 0.0706,\n",
              "           0.4941, 0.5333, 0.6863, 0.1020, 0.6510, 1.0000, 0.9686, 0.4980,\n",
              "           0.0000, 0.0000, 0.0000, 0.0000],\n",
              "          [0.0000, 0.0000, 0.0000, 0.0000, 0.0000, 0.0000, 0.0000, 0.0000,\n",
              "           0.1176, 0.1412, 0.3686, 0.6039, 0.6667, 0.9922, 0.9922, 0.9922,\n",
              "           0.9922, 0.9922, 0.8824, 0.6745, 0.9922, 0.9490, 0.7647, 0.2510,\n",
              "           0.0000, 0.0000, 0.0000, 0.0000],\n",
              "          [0.0000, 0.0000, 0.0000, 0.0000, 0.0000, 0.0000, 0.0000, 0.1922,\n",
              "           0.9333, 0.9922, 0.9922, 0.9922, 0.9922, 0.9922, 0.9922, 0.9922,\n",
              "           0.9922, 0.9843, 0.3647, 0.3216, 0.3216, 0.2196, 0.1529, 0.0000,\n",
              "           0.0000, 0.0000, 0.0000, 0.0000],\n",
              "          [0.0000, 0.0000, 0.0000, 0.0000, 0.0000, 0.0000, 0.0000, 0.0706,\n",
              "           0.8588, 0.9922, 0.9922, 0.9922, 0.9922, 0.9922, 0.7765, 0.7137,\n",
              "           0.9686, 0.9451, 0.0000, 0.0000, 0.0000, 0.0000, 0.0000, 0.0000,\n",
              "           0.0000, 0.0000, 0.0000, 0.0000],\n",
              "          [0.0000, 0.0000, 0.0000, 0.0000, 0.0000, 0.0000, 0.0000, 0.0000,\n",
              "           0.3137, 0.6118, 0.4196, 0.9922, 0.9922, 0.8039, 0.0431, 0.0000,\n",
              "           0.1686, 0.6039, 0.0000, 0.0000, 0.0000, 0.0000, 0.0000, 0.0000,\n",
              "           0.0000, 0.0000, 0.0000, 0.0000],\n",
              "          [0.0000, 0.0000, 0.0000, 0.0000, 0.0000, 0.0000, 0.0000, 0.0000,\n",
              "           0.0000, 0.0549, 0.0039, 0.6039, 0.9922, 0.3529, 0.0000, 0.0000,\n",
              "           0.0000, 0.0000, 0.0000, 0.0000, 0.0000, 0.0000, 0.0000, 0.0000,\n",
              "           0.0000, 0.0000, 0.0000, 0.0000],\n",
              "          [0.0000, 0.0000, 0.0000, 0.0000, 0.0000, 0.0000, 0.0000, 0.0000,\n",
              "           0.0000, 0.0000, 0.0000, 0.5451, 0.9922, 0.7451, 0.0078, 0.0000,\n",
              "           0.0000, 0.0000, 0.0000, 0.0000, 0.0000, 0.0000, 0.0000, 0.0000,\n",
              "           0.0000, 0.0000, 0.0000, 0.0000],\n",
              "          [0.0000, 0.0000, 0.0000, 0.0000, 0.0000, 0.0000, 0.0000, 0.0000,\n",
              "           0.0000, 0.0000, 0.0000, 0.0431, 0.7451, 0.9922, 0.2745, 0.0000,\n",
              "           0.0000, 0.0000, 0.0000, 0.0000, 0.0000, 0.0000, 0.0000, 0.0000,\n",
              "           0.0000, 0.0000, 0.0000, 0.0000],\n",
              "          [0.0000, 0.0000, 0.0000, 0.0000, 0.0000, 0.0000, 0.0000, 0.0000,\n",
              "           0.0000, 0.0000, 0.0000, 0.0000, 0.1373, 0.9451, 0.8824, 0.6275,\n",
              "           0.4235, 0.0039, 0.0000, 0.0000, 0.0000, 0.0000, 0.0000, 0.0000,\n",
              "           0.0000, 0.0000, 0.0000, 0.0000],\n",
              "          [0.0000, 0.0000, 0.0000, 0.0000, 0.0000, 0.0000, 0.0000, 0.0000,\n",
              "           0.0000, 0.0000, 0.0000, 0.0000, 0.0000, 0.3176, 0.9412, 0.9922,\n",
              "           0.9922, 0.4667, 0.0980, 0.0000, 0.0000, 0.0000, 0.0000, 0.0000,\n",
              "           0.0000, 0.0000, 0.0000, 0.0000],\n",
              "          [0.0000, 0.0000, 0.0000, 0.0000, 0.0000, 0.0000, 0.0000, 0.0000,\n",
              "           0.0000, 0.0000, 0.0000, 0.0000, 0.0000, 0.0000, 0.1765, 0.7294,\n",
              "           0.9922, 0.9922, 0.5882, 0.1059, 0.0000, 0.0000, 0.0000, 0.0000,\n",
              "           0.0000, 0.0000, 0.0000, 0.0000],\n",
              "          [0.0000, 0.0000, 0.0000, 0.0000, 0.0000, 0.0000, 0.0000, 0.0000,\n",
              "           0.0000, 0.0000, 0.0000, 0.0000, 0.0000, 0.0000, 0.0000, 0.0627,\n",
              "           0.3647, 0.9882, 0.9922, 0.7333, 0.0000, 0.0000, 0.0000, 0.0000,\n",
              "           0.0000, 0.0000, 0.0000, 0.0000],\n",
              "          [0.0000, 0.0000, 0.0000, 0.0000, 0.0000, 0.0000, 0.0000, 0.0000,\n",
              "           0.0000, 0.0000, 0.0000, 0.0000, 0.0000, 0.0000, 0.0000, 0.0000,\n",
              "           0.0000, 0.9765, 0.9922, 0.9765, 0.2510, 0.0000, 0.0000, 0.0000,\n",
              "           0.0000, 0.0000, 0.0000, 0.0000],\n",
              "          [0.0000, 0.0000, 0.0000, 0.0000, 0.0000, 0.0000, 0.0000, 0.0000,\n",
              "           0.0000, 0.0000, 0.0000, 0.0000, 0.0000, 0.0000, 0.1804, 0.5098,\n",
              "           0.7176, 0.9922, 0.9922, 0.8118, 0.0078, 0.0000, 0.0000, 0.0000,\n",
              "           0.0000, 0.0000, 0.0000, 0.0000],\n",
              "          [0.0000, 0.0000, 0.0000, 0.0000, 0.0000, 0.0000, 0.0000, 0.0000,\n",
              "           0.0000, 0.0000, 0.0000, 0.0000, 0.1529, 0.5804, 0.8980, 0.9922,\n",
              "           0.9922, 0.9922, 0.9804, 0.7137, 0.0000, 0.0000, 0.0000, 0.0000,\n",
              "           0.0000, 0.0000, 0.0000, 0.0000],\n",
              "          [0.0000, 0.0000, 0.0000, 0.0000, 0.0000, 0.0000, 0.0000, 0.0000,\n",
              "           0.0000, 0.0000, 0.0941, 0.4471, 0.8667, 0.9922, 0.9922, 0.9922,\n",
              "           0.9922, 0.7882, 0.3059, 0.0000, 0.0000, 0.0000, 0.0000, 0.0000,\n",
              "           0.0000, 0.0000, 0.0000, 0.0000],\n",
              "          [0.0000, 0.0000, 0.0000, 0.0000, 0.0000, 0.0000, 0.0000, 0.0000,\n",
              "           0.0902, 0.2588, 0.8353, 0.9922, 0.9922, 0.9922, 0.9922, 0.7765,\n",
              "           0.3176, 0.0078, 0.0000, 0.0000, 0.0000, 0.0000, 0.0000, 0.0000,\n",
              "           0.0000, 0.0000, 0.0000, 0.0000],\n",
              "          [0.0000, 0.0000, 0.0000, 0.0000, 0.0000, 0.0000, 0.0706, 0.6706,\n",
              "           0.8588, 0.9922, 0.9922, 0.9922, 0.9922, 0.7647, 0.3137, 0.0353,\n",
              "           0.0000, 0.0000, 0.0000, 0.0000, 0.0000, 0.0000, 0.0000, 0.0000,\n",
              "           0.0000, 0.0000, 0.0000, 0.0000],\n",
              "          [0.0000, 0.0000, 0.0000, 0.0000, 0.2157, 0.6745, 0.8863, 0.9922,\n",
              "           0.9922, 0.9922, 0.9922, 0.9569, 0.5216, 0.0431, 0.0000, 0.0000,\n",
              "           0.0000, 0.0000, 0.0000, 0.0000, 0.0000, 0.0000, 0.0000, 0.0000,\n",
              "           0.0000, 0.0000, 0.0000, 0.0000],\n",
              "          [0.0000, 0.0000, 0.0000, 0.0000, 0.5333, 0.9922, 0.9922, 0.9922,\n",
              "           0.8314, 0.5294, 0.5176, 0.0627, 0.0000, 0.0000, 0.0000, 0.0000,\n",
              "           0.0000, 0.0000, 0.0000, 0.0000, 0.0000, 0.0000, 0.0000, 0.0000,\n",
              "           0.0000, 0.0000, 0.0000, 0.0000],\n",
              "          [0.0000, 0.0000, 0.0000, 0.0000, 0.0000, 0.0000, 0.0000, 0.0000,\n",
              "           0.0000, 0.0000, 0.0000, 0.0000, 0.0000, 0.0000, 0.0000, 0.0000,\n",
              "           0.0000, 0.0000, 0.0000, 0.0000, 0.0000, 0.0000, 0.0000, 0.0000,\n",
              "           0.0000, 0.0000, 0.0000, 0.0000],\n",
              "          [0.0000, 0.0000, 0.0000, 0.0000, 0.0000, 0.0000, 0.0000, 0.0000,\n",
              "           0.0000, 0.0000, 0.0000, 0.0000, 0.0000, 0.0000, 0.0000, 0.0000,\n",
              "           0.0000, 0.0000, 0.0000, 0.0000, 0.0000, 0.0000, 0.0000, 0.0000,\n",
              "           0.0000, 0.0000, 0.0000, 0.0000],\n",
              "          [0.0000, 0.0000, 0.0000, 0.0000, 0.0000, 0.0000, 0.0000, 0.0000,\n",
              "           0.0000, 0.0000, 0.0000, 0.0000, 0.0000, 0.0000, 0.0000, 0.0000,\n",
              "           0.0000, 0.0000, 0.0000, 0.0000, 0.0000, 0.0000, 0.0000, 0.0000,\n",
              "           0.0000, 0.0000, 0.0000, 0.0000]]]),\n",
              " 5)"
            ]
          },
          "metadata": {},
          "execution_count": 5
        }
      ]
    },
    {
      "cell_type": "code",
      "source": [
        "image,label=train_data[0]\n",
        "print('Shape:',image.shape,'\\nLabel:',label)"
      ],
      "metadata": {
        "colab": {
          "base_uri": "https://localhost:8080/"
        },
        "id": "SykUkf_4Z48c",
        "outputId": "e0606c5c-1c27-438e-970c-dd34bae46c88"
      },
      "execution_count": 6,
      "outputs": [
        {
          "output_type": "stream",
          "name": "stdout",
          "text": [
            "Shape: torch.Size([1, 28, 28]) \n",
            "Label: 5\n"
          ]
        }
      ]
    },
    {
      "cell_type": "code",
      "source": [
        "plt.imshow(train_data[0][0].reshape((28,28)), cmap=\"gist_yarg\");"
      ],
      "metadata": {
        "colab": {
          "base_uri": "https://localhost:8080/",
          "height": 430
        },
        "id": "4RIMnDbJaI1D",
        "outputId": "7a1b996c-fa40-44c6-8e7e-3499498b2e10"
      },
      "execution_count": 7,
      "outputs": [
        {
          "output_type": "display_data",
          "data": {
            "text/plain": [
              "<Figure size 640x480 with 1 Axes>"
            ],
            "image/png": "[encoded data removed]"
          },
          "metadata": {}
        }
      ]
    },
    {
      "cell_type": "code",
      "source": [
        "#Our training set has 60,000 records.\n",
        "#Our model has 784 incoming features(once we flatten the incoming 28x28 tensors),\n",
        "#Hidden layers of 120 and 84 neurons,\n",
        "#10 output features."
      ],
      "metadata": {
        "id": "aD27Fwq_aMbm"
      },
      "execution_count": 8,
      "outputs": []
    },
    {
      "cell_type": "code",
      "source": [
        "#batch_size is the no. of records to be processed at a time.\n",
        "#if not evenly divisible into dataset then the final batch contains remainder.\n",
        "#shuffle set to True means dataset will be shuffled after each epoch."
      ],
      "metadata": {
        "id": "ketPzAtdawzn"
      },
      "execution_count": 9,
      "outputs": []
    },
    {
      "cell_type": "code",
      "source": [
        "torch.manual_seed(101)\n",
        "train_loader = DataLoader(train_data, batch_size=100, shuffle=True)\n",
        "test_loader = DataLoader(test_data, batch_size=500, shuffle=False)"
      ],
      "metadata": {
        "id": "JKId1aJjbHaa"
      },
      "execution_count": 10,
      "outputs": []
    },
    {
      "cell_type": "code",
      "source": [
        "#viewing a grid of images using torchvision.utils.make_grid\n",
        "from torchvision.utils import make_grid\n",
        "np.set_printoptions(formatter=dict(int=lambda x: f'{x:4}')) # to widen the printed array\n",
        "\n",
        "# Grab the first batch of images\n",
        "for images,labels in train_loader:\n",
        "    break\n",
        "\n",
        "# Print the first 12 labels\n",
        "print('Labels: ', labels[:12].numpy())\n",
        "\n",
        "# Print the first 12 images\n",
        "im = make_grid(images[:12], nrow=12)  # the default nrow is 8\n",
        "plt.figure(figsize=(10,4))\n",
        "# We need to transpose the images from CWH to WHC\n",
        "plt.imshow(np.transpose(im.numpy(), (1, 2, 0)));"
      ],
      "metadata": {
        "colab": {
          "base_uri": "https://localhost:8080/",
          "height": 150
        },
        "id": "15xs0whUbRIn",
        "outputId": "4f4fc86c-540f-426f-82a4-09f195701b8b"
      },
      "execution_count": 11,
      "outputs": [
        {
          "output_type": "stream",
          "name": "stdout",
          "text": [
            "Labels:  [   7    2    3    5    8    5    3    6    9    9    1    3]\n"
          ]
        },
        {
          "output_type": "display_data",
          "data": {
            "text/plain": [
              "<Figure size 1000x400 with 1 Axes>"
            ],
            "image/png": "[encoded data removed]"
          },
          "metadata": {}
        }
      ]
    },
    {
      "cell_type": "code",
      "source": [
        "#Model\n",
        "#we will use fully connected layers to develop a multilayer perceptron.\n",
        "#Our input size is 784 once we flatten the incoming 28x28 tensors.\n",
        "#Our output size represents the 10 possible digits.\n",
        "#We'll set our hidden layers to [120, 84]."
      ],
      "metadata": {
        "id": "XDFs8UTXbfD_"
      },
      "execution_count": 12,
      "outputs": []
    },
    {
      "cell_type": "code",
      "source": [
        "#USING ANN"
      ],
      "metadata": {
        "id": "m-3Xv0YyfUd4"
      },
      "execution_count": 27,
      "outputs": []
    },
    {
      "cell_type": "code",
      "source": [
        "class MultilayerPerceptron(nn.Module):\n",
        "    def __init__(self, in_sz=784, out_sz=10, layers=[120,84]):\n",
        "        super().__init__()\n",
        "        self.fc1 = nn.Linear(in_sz,layers[0])\n",
        "        self.fc2 = nn.Linear(layers[0],layers[1])\n",
        "        self.fc3 = nn.Linear(layers[1],out_sz)\n",
        "\n",
        "    def forward(self,X):\n",
        "        X = F.relu(self.fc1(X))\n",
        "        X = F.relu(self.fc2(X))\n",
        "        X = self.fc3(X)\n",
        "        return F.log_softmax(X, dim=1)"
      ],
      "metadata": {
        "id": "mxSIeChOb_I_"
      },
      "execution_count": 13,
      "outputs": []
    },
    {
      "cell_type": "code",
      "source": [
        "torch.manual_seed(101)\n",
        "model = MultilayerPerceptron()\n",
        "model"
      ],
      "metadata": {
        "colab": {
          "base_uri": "https://localhost:8080/"
        },
        "id": "VhX2DF12cJvD",
        "outputId": "7556b3ae-88d1-4647-8ea6-22ed20cb77dd"
      },
      "execution_count": 14,
      "outputs": [
        {
          "output_type": "execute_result",
          "data": {
            "text/plain": [
              "MultilayerPerceptron(\n",
              "  (fc1): Linear(in_features=784, out_features=120, bias=True)\n",
              "  (fc2): Linear(in_features=120, out_features=84, bias=True)\n",
              "  (fc3): Linear(in_features=84, out_features=10, bias=True)\n",
              ")"
            ]
          },
          "metadata": {},
          "execution_count": 14
        }
      ]
    },
    {
      "cell_type": "code",
      "source": [
        "#loss function and optimizer\n",
        "criterion = nn.CrossEntropyLoss()\n",
        "optimizer = torch.optim.Adam(model.parameters(), lr=0.001)"
      ],
      "metadata": {
        "id": "A9OGPoG8cLw_"
      },
      "execution_count": 15,
      "outputs": []
    },
    {
      "cell_type": "code",
      "source": [
        "# Load the first batch, print its shape\n",
        "for images, labels in train_loader:\n",
        "    print('Batch shape:', images.size())\n",
        "    break"
      ],
      "metadata": {
        "colab": {
          "base_uri": "https://localhost:8080/"
        },
        "id": "9i5p1pAZcZDB",
        "outputId": "1dadddcc-9622-4aa4-e6c7-c01ff5f489e4"
      },
      "execution_count": 16,
      "outputs": [
        {
          "output_type": "stream",
          "name": "stdout",
          "text": [
            "Batch shape: torch.Size([100, 1, 28, 28])\n"
          ]
        }
      ]
    },
    {
      "cell_type": "code",
      "source": [
        "#We can flatten them using .view()\n",
        "images.view(100,-1).size()"
      ],
      "metadata": {
        "colab": {
          "base_uri": "https://localhost:8080/"
        },
        "id": "LW1Nesfqc0nQ",
        "outputId": "368f49ec-4f27-4881-dc39-570a92ea5982"
      },
      "execution_count": 17,
      "outputs": [
        {
          "output_type": "execute_result",
          "data": {
            "text/plain": [
              "torch.Size([100, 784])"
            ]
          },
          "metadata": {},
          "execution_count": 17
        }
      ]
    },
    {
      "cell_type": "code",
      "source": [
        "import time\n",
        "start_time = time.time()\n",
        "\n",
        "epochs = 10\n",
        "train_losses = []\n",
        "test_losses = []\n",
        "train_correct = []\n",
        "test_correct = []\n",
        "\n",
        "for i in range(epochs):\n",
        "    trn_corr = 0\n",
        "    tst_corr = 0\n",
        "\n",
        "    # Run the training batches\n",
        "    for b, (X_train, y_train) in enumerate(train_loader):\n",
        "        b+=1\n",
        "\n",
        "        # Apply the model\n",
        "        y_pred = model(X_train.view(100, -1))  # Here we flatten X_train\n",
        "        loss = criterion(y_pred, y_train)\n",
        "\n",
        "        # Tally the number of correct predictions\n",
        "        predicted = torch.max(y_pred.data, 1)[1]\n",
        "        batch_corr = (predicted == y_train).sum()\n",
        "        trn_corr += batch_corr\n",
        "\n",
        "        # Update parameters\n",
        "        optimizer.zero_grad()\n",
        "        loss.backward()\n",
        "        optimizer.step()\n",
        "\n",
        "        # Print interim results\n",
        "        if b%200 == 0:\n",
        "            print(f'epoch: {i:2}  batch: {b:4} [{100*b:6}/60000]  loss: {loss.item():10.8f}  \\\n",
        "accuracy: {trn_corr.item()*100/(100*b):7.3f}%')\n",
        "\n",
        "    # Update train loss & accuracy for the epoch\n",
        "    train_losses.append(loss)\n",
        "    train_correct.append(trn_corr)\n",
        "\n",
        "    # Run the testing batches\n",
        "    with torch.no_grad():\n",
        "        for b, (X_test, y_test) in enumerate(test_loader):\n",
        "\n",
        "            # Apply the model\n",
        "            y_val = model(X_test.view(500, -1))  # Here we flatten X_test\n",
        "\n",
        "            # Tally the number of correct predictions\n",
        "            predicted = torch.max(y_val.data, 1)[1]\n",
        "            tst_corr += (predicted == y_test).sum()\n",
        "\n",
        "    # Update test loss & accuracy for the epoch\n",
        "    loss = criterion(y_val, y_test)\n",
        "    test_losses.append(loss)\n",
        "    test_correct.append(tst_corr)\n",
        "\n",
        "print(f'\\nDuration: {time.time() - start_time:.0f} seconds') # print the time elapsed"
      ],
      "metadata": {
        "colab": {
          "base_uri": "https://localhost:8080/"
        },
        "id": "5x-MoulLc_oX",
        "outputId": "628e5783-6727-4a58-a097-96f98a44c752"
      },
      "execution_count": 18,
      "outputs": [
        {
          "output_type": "stream",
          "name": "stdout",
          "text": [
            "epoch:  0  batch:  200 [ 20000/60000]  loss: 0.29955006  accuracy:  82.655%\n",
            "epoch:  0  batch:  400 [ 40000/60000]  loss: 0.27258992  accuracy:  87.248%\n",
            "epoch:  0  batch:  600 [ 60000/60000]  loss: 0.18150842  accuracy:  89.318%\n",
            "epoch:  1  batch:  200 [ 20000/60000]  loss: 0.17044601  accuracy:  94.610%\n",
            "epoch:  1  batch:  400 [ 40000/60000]  loss: 0.05073734  accuracy:  95.010%\n",
            "epoch:  1  batch:  600 [ 60000/60000]  loss: 0.14283668  accuracy:  95.250%\n",
            "epoch:  2  batch:  200 [ 20000/60000]  loss: 0.16775088  accuracy:  96.520%\n",
            "epoch:  2  batch:  400 [ 40000/60000]  loss: 0.17148611  accuracy:  96.500%\n",
            "epoch:  2  batch:  600 [ 60000/60000]  loss: 0.10836818  accuracy:  96.580%\n",
            "epoch:  3  batch:  200 [ 20000/60000]  loss: 0.14083403  accuracy:  97.435%\n",
            "epoch:  3  batch:  400 [ 40000/60000]  loss: 0.01265545  accuracy:  97.480%\n",
            "epoch:  3  batch:  600 [ 60000/60000]  loss: 0.07461330  accuracy:  97.413%\n",
            "epoch:  4  batch:  200 [ 20000/60000]  loss: 0.05512386  accuracy:  98.025%\n",
            "epoch:  4  batch:  400 [ 40000/60000]  loss: 0.11767980  accuracy:  97.938%\n",
            "epoch:  4  batch:  600 [ 60000/60000]  loss: 0.10123392  accuracy:  97.980%\n",
            "epoch:  5  batch:  200 [ 20000/60000]  loss: 0.07717301  accuracy:  98.520%\n",
            "epoch:  5  batch:  400 [ 40000/60000]  loss: 0.02588869  accuracy:  98.422%\n",
            "epoch:  5  batch:  600 [ 60000/60000]  loss: 0.03231713  accuracy:  98.358%\n",
            "epoch:  6  batch:  200 [ 20000/60000]  loss: 0.02333941  accuracy:  98.855%\n",
            "epoch:  6  batch:  400 [ 40000/60000]  loss: 0.04018433  accuracy:  98.680%\n",
            "epoch:  6  batch:  600 [ 60000/60000]  loss: 0.03024919  accuracy:  98.663%\n",
            "epoch:  7  batch:  200 [ 20000/60000]  loss: 0.00419998  accuracy:  99.015%\n",
            "epoch:  7  batch:  400 [ 40000/60000]  loss: 0.00700036  accuracy:  98.907%\n",
            "epoch:  7  batch:  600 [ 60000/60000]  loss: 0.03357959  accuracy:  98.857%\n",
            "epoch:  8  batch:  200 [ 20000/60000]  loss: 0.00850624  accuracy:  99.195%\n",
            "epoch:  8  batch:  400 [ 40000/60000]  loss: 0.07870711  accuracy:  99.175%\n",
            "epoch:  8  batch:  600 [ 60000/60000]  loss: 0.04937066  accuracy:  99.138%\n",
            "epoch:  9  batch:  200 [ 20000/60000]  loss: 0.04686265  accuracy:  99.350%\n",
            "epoch:  9  batch:  400 [ 40000/60000]  loss: 0.02126156  accuracy:  99.323%\n",
            "epoch:  9  batch:  600 [ 60000/60000]  loss: 0.02098813  accuracy:  99.250%\n",
            "\n",
            "Duration: 102 seconds\n"
          ]
        }
      ]
    },
    {
      "cell_type": "code",
      "source": [
        "print(test_correct) # contains the results of all 10 epochs\n",
        "print()\n",
        "print(f'Test accuracy: {test_correct[-1].item()*100/10000:.3f}%') # print the most recent result as a percent"
      ],
      "metadata": {
        "colab": {
          "base_uri": "https://localhost:8080/"
        },
        "id": "pPNkS5hqdJ_u",
        "outputId": "9300c31b-2461-4b2d-bbf2-2f89ac481ddf"
      },
      "execution_count": 21,
      "outputs": [
        {
          "output_type": "stream",
          "name": "stdout",
          "text": [
            "[tensor(9453), tensor(9604), tensor(9657), tensor(9723), tensor(9648), tensor(9754), tensor(9742), tensor(9757), tensor(9746), tensor(9777)]\n",
            "\n",
            "Test accuracy: 97.770%\n"
          ]
        }
      ]
    },
    {
      "cell_type": "code",
      "source": [
        "# Extract the data all at once, not in batches\n",
        "test_load_all = DataLoader(test_data, batch_size=10000, shuffle=False)"
      ],
      "metadata": {
        "id": "p9G8DvSrdmlr"
      },
      "execution_count": 22,
      "outputs": []
    },
    {
      "cell_type": "code",
      "source": [
        "with torch.no_grad():\n",
        "    correct = 0\n",
        "    for X_test, y_test in test_load_all:\n",
        "        y_val = model(X_test.view(len(X_test), -1))  # pass in a flattened view of X_test\n",
        "        predicted = torch.max(y_val,1)[1]\n",
        "        correct += (predicted == y_test).sum()\n",
        "print(f'Test accuracy: {correct.item()}/{len(test_data)} = {correct.item()*100/(len(test_data)):7.3f}%')"
      ],
      "metadata": {
        "colab": {
          "base_uri": "https://localhost:8080/"
        },
        "id": "S7ypTxPzeIkO",
        "outputId": "bf0f25d5-0049-41f6-e684-33cadbadea08"
      },
      "execution_count": 23,
      "outputs": [
        {
          "output_type": "stream",
          "name": "stdout",
          "text": [
            "Test accuracy: 9777/10000 =  97.770%\n"
          ]
        }
      ]
    },
    {
      "cell_type": "code",
      "source": [
        "# print a row of values for reference\n",
        "np.set_printoptions(formatter=dict(int=lambda x: f'{x:4}'))\n",
        "print(np.arange(10).reshape(1,10))\n",
        "print()\n",
        "\n",
        "# print the confusion matrix\n",
        "print(confusion_matrix(predicted.view(-1), y_test.view(-1)))"
      ],
      "metadata": {
        "colab": {
          "base_uri": "https://localhost:8080/"
        },
        "id": "KN8b1FoDeP0r",
        "outputId": "9b580579-94dc-4aa2-800d-1f2fc82abd7b"
      },
      "execution_count": 24,
      "outputs": [
        {
          "output_type": "stream",
          "name": "stdout",
          "text": [
            "[[   0    1    2    3    4    5    6    7    8    9]]\n",
            "\n",
            "[[ 972    0    2    1    1    2    3    0    3    5]\n",
            " [   0 1121    0    0    0    1    3    6    0    1]\n",
            " [   2    4 1020   10    3    0    3   12    3    0]\n",
            " [   0    3    2  986    0   16    1    2    2    9]\n",
            " [   0    0    1    0  958    1    4    1    2    9]\n",
            " [   0    0    0    3    0  854    2    0    2    4]\n",
            " [   3    2    2    0    5    8  941    0    3    1]\n",
            " [   0    1    2    3    2    1    0 1000    4    3]\n",
            " [   3    4    2    5    2    8    1    3  953    5]\n",
            " [   0    0    1    2   11    1    0    4    2  972]]\n"
          ]
        }
      ]
    },
    {
      "cell_type": "code",
      "source": [
        "print(classification_report(predicted.view(-1), y_test.view(-1)))"
      ],
      "metadata": {
        "colab": {
          "base_uri": "https://localhost:8080/"
        },
        "id": "C9yv-k71eS7t",
        "outputId": "c83422a9-d053-4b20-89bc-853cef8da2ba"
      },
      "execution_count": 25,
      "outputs": [
        {
          "output_type": "stream",
          "name": "stdout",
          "text": [
            "              precision    recall  f1-score   support\n",
            "\n",
            "           0       0.99      0.98      0.99       989\n",
            "           1       0.99      0.99      0.99      1132\n",
            "           2       0.99      0.96      0.98      1057\n",
            "           3       0.98      0.97      0.97      1021\n",
            "           4       0.98      0.98      0.98       976\n",
            "           5       0.96      0.99      0.97       865\n",
            "           6       0.98      0.98      0.98       965\n",
            "           7       0.97      0.98      0.98      1016\n",
            "           8       0.98      0.97      0.97       986\n",
            "           9       0.96      0.98      0.97       993\n",
            "\n",
            "    accuracy                           0.98     10000\n",
            "   macro avg       0.98      0.98      0.98     10000\n",
            "weighted avg       0.98      0.98      0.98     10000\n",
            "\n"
          ]
        }
      ]
    },
    {
      "cell_type": "code",
      "source": [
        "#Classification report displays precision,recall,F1-score and support scores.\n",
        "#precision=accuracy of positive predictions=(true positives)/(true positives + false positives)\n",
        "#recall=fraction of positives that were corectly identified=(true positives)/(true positives + false negatives)\n",
        "#F1 score=weighted harmonic mean of precision and recall=(2*precision*recall)/(precision+recall)\n",
        "#support=no. of actual occurences of the class in the specified dataset"
      ],
      "metadata": {
        "id": "DFTu3fcaei-1"
      },
      "execution_count": 26,
      "outputs": []
    },
    {
      "cell_type": "code",
      "source": [
        "#USING CNN"
      ],
      "metadata": {
        "id": "L74VMv9gese2"
      },
      "execution_count": 28,
      "outputs": []
    },
    {
      "cell_type": "code",
      "source": [
        "train_loader = DataLoader(train_data, batch_size=10, shuffle=True)\n",
        "test_loader = DataLoader(test_data, batch_size=10, shuffle=False)"
      ],
      "metadata": {
        "id": "I_1gPrDifZf3"
      },
      "execution_count": 29,
      "outputs": []
    },
    {
      "cell_type": "code",
      "source": [
        "#In the ANN Model,we used only fully connected layers,\n",
        "#with an input layer of 784 (our flattened 28x28 images),\n",
        "#hidden layers of 120 and 84 neurons,\n",
        "#and an output size representing 10 possible digits.\n",
        "\n",
        "#In CNN Model,we will employ two convolutional layers and two pooling layers\n",
        "#before feeding data through fully connected hidden layers to our output.\n",
        "#The model follows CONV/RELU/POOL/CONV/RELU/POOL/FC/RELU/FC."
      ],
      "metadata": {
        "id": "8N1ditKhfnaK"
      },
      "execution_count": 30,
      "outputs": []
    },
    {
      "cell_type": "code",
      "source": [
        "'''\n",
        "The parameters for the nn.Conv2d function in PyTorch are as follows:\n",
        "\n",
        "torch.nn.Conv2d(in_channels, out_channels, kernel_size, stride=1, padding=0, dilation=1, groups=1, bias=True, padding_mode='zeros')\n",
        "Here's a detailed breakdown of each parameter:\n",
        "\n",
        "in_channels: (int) Number of channels in the input image. For grayscale images, this is 1. For RGB images, this would be 3.\n",
        "out_channels: (int) Number of channels produced by the convolution. This is the number of filters you want to apply, which determines the depth of the output feature maps.\n",
        "kernel_size: (int or tuple) Size of the convolving kernel (filter). If an integer is given, the same size is used for both dimensions. If a tuple, it specifies the height and width of the filter.\n",
        "stride: (int or tuple, optional) Stride of the convolution. Default is 1. This parameter controls how the filter moves over the input image.\n",
        "padding: (int, tuple or str, optional) Zero-padding added to both sides of the input. Default is 0. Padding can help maintain the spatial dimensions of the input.\n",
        "dilation: (int or tuple, optional) Spacing between kernel elements. Default is 1. This parameter is used to increase the receptive field of the kernel.\n",
        "groups: (int, optional) Number of blocked connections from input channels to output channels. Default is 1. If groups is greater than 1, the convolution is a grouped convolution, which means the input and output channels are divided into groups.\n",
        "bias: (bool, optional) If True, adds a learnable bias to the output. Default is True.\n",
        "padding_mode: (str, optional) 'zeros', 'reflect', 'replicate' or 'circular'. Default is 'zeros'. It specifies the type of padding to use.\n",
        "Given the example:\n",
        "\n",
        "self.conv1 = nn.Conv2d(1, 6, 3, 1)\n",
        "self.conv2 = nn.Conv2d(6, 16, 3, 1)\n",
        "The parameters for self.conv1 are:\n",
        "\n",
        "in_channels: 1 (input is a grayscale image with one channel)\n",
        "out_channels: 6 (six filters will be applied, producing six output feature maps)\n",
        "kernel_size: 3 (3x3 filter)\n",
        "stride: 1 (filter moves one pixel at a time)\n",
        "The parameters for self.conv2 are:\n",
        "\n",
        "in_channels: 6 (input to this layer is the output from the previous layer, which has six channels)\n",
        "out_channels: 16 (sixteen filters will be applied, producing sixteen output feature maps)\n",
        "kernel_size: 3 (3x3 filter)\n",
        "stride: 1 (filter moves one pixel at a time)\n",
        "If you want to explicitly name all parameters:\n",
        "self.conv1 = nn.Conv2d(in_channels=1, out_channels=6, kernel_size=3, stride=1)\n",
        "self.conv2 = nn.Conv2d(in_channels=6, out_channels=16, kernel_size=3, stride=1)\n",
        "'''"
      ],
      "metadata": {
        "colab": {
          "base_uri": "https://localhost:8080/",
          "height": 123
        },
        "id": "-rO6ygVgggNq",
        "outputId": "b4dd63c5-2dcb-4fb4-eb10-726c4c0d684e"
      },
      "execution_count": 31,
      "outputs": [
        {
          "output_type": "execute_result",
          "data": {
            "text/plain": [
              "\"\\nThe parameters for the nn.Conv2d function in PyTorch are as follows:\\n\\ntorch.nn.Conv2d(in_channels, out_channels, kernel_size, stride=1, padding=0, dilation=1, groups=1, bias=True, padding_mode='zeros')\\nHere's a detailed breakdown of each parameter:\\n\\nin_channels: (int) Number of channels in the input image. For grayscale images, this is 1. For RGB images, this would be 3.\\nout_channels: (int) Number of channels produced by the convolution. This is the number of filters you want to apply, which determines the depth of the output feature maps.\\nkernel_size: (int or tuple) Size of the convolving kernel (filter). If an integer is given, the same size is used for both dimensions. If a tuple, it specifies the height and width of the filter.\\nstride: (int or tuple, optional) Stride of the convolution. Default is 1. This parameter controls how the filter moves over the input image.\\npadding: (int, tuple or str, optional) Zero-padding added to both sides of the input. Default is 0. Padding can help maintain the spatial dimensions of the input.\\ndilation: (int or tuple, optional) Spacing between kernel elements. Default is 1. This parameter is used to increase the receptive field of the kernel.\\ngroups: (int, optional) Number of blocked connections from input channels to output channels. Default is 1. If groups is greater than 1, the convolution is a grouped convolution, which means the input and output channels are divided into groups.\\nbias: (bool, optional) If True, adds a learnable bias to the output. Default is True.\\npadding_mode: (str, optional) 'zeros', 'reflect', 'replicate' or 'circular'. Default is 'zeros'. It specifies the type of padding to use.\\nGiven the example:\\n\\nself.conv1 = nn.Conv2d(1, 6, 3, 1)\\nself.conv2 = nn.Conv2d(6, 16, 3, 1)\\nThe parameters for self.conv1 are:\\n\\nin_channels: 1 (input is a grayscale image with one channel)\\nout_channels: 6 (six filters will be applied, producing six output feature maps)\\nkernel_size: 3 (3x3 filter)\\nstride: 1 (filter moves one pixel at a time)\\nThe parameters for self.conv2 are:\\n\\nin_channels: 6 (input to this layer is the output from the previous layer, which has six channels)\\nout_channels: 16 (sixteen filters will be applied, producing sixteen output feature maps)\\nkernel_size: 3 (3x3 filter)\\nstride: 1 (filter moves one pixel at a time)\\nIf you want to explicitly name all parameters:\\nself.conv1 = nn.Conv2d(in_channels=1, out_channels=6, kernel_size=3, stride=1)\\nself.conv2 = nn.Conv2d(in_channels=6, out_channels=16, kernel_size=3, stride=1)\\n\""
            ],
            "application/vnd.google.colaboratory.intrinsic+json": {
              "type": "string"
            }
          },
          "metadata": {},
          "execution_count": 31
        }
      ]
    },
    {
      "cell_type": "code",
      "source": [
        "'''\n",
        "STEPS IN CNN Model:\n",
        "Extend the base Module class:\n",
        "class ConvolutionalNetwork(nn.Module):\n",
        "    def __init__(self):\n",
        "        super().__init__()\n",
        "\n",
        "Set up the convolutional layers with torch.nn.Conv2d()\n",
        "\n",
        "The first layer has one input channel (the grayscale color channel). We'll assign 6 output channels for feature extraction. We'll set our kernel size to 3 to make a 3x3 filter, and set the step size to 1.\n",
        "    self.conv1 = nn.Conv2d(1, 6, 3, 1)\n",
        "The second layer will take our 6 input channels and deliver 16 output channels.\n",
        "    self.conv2 = nn.Conv2d(6, 16, 3, 1)\n",
        "\n",
        "\n",
        "Set up the fully connected layers with torch.nn.Linear().\n",
        "\n",
        "The input size of (5x5x16) is determined by the effect of our kernels on the input image size. A 3x3 filter applied to a 28x28 image leaves a 1-pixel edge on all four sides. In one layer the size changes from 28x28 to 26x26. We could address this with zero-padding, but since an MNIST image is mostly black at the edges, we should be safe ignoring these pixels. We'll apply the kernel twice, and apply pooling layers twice, so our resulting output will be\n",
        "(((28-2)/2)-2)/2 = 5.5 which rounds down to 5 pixels per side.\n",
        "    self.fc1 = nn.Linear(5*5*16, 120)\n",
        "    self.fc2 = nn.Linear(120, 84)\n",
        "    self.fc3 = nn.Linear(84, 10)\n",
        "\n",
        "Define the forward method.\n",
        "\n",
        "Activations can be applied to the convolutions in one line using F.relu() and pooling is done using F.max_pool2d()\n",
        "def forward(self, X):\n",
        "    X = F.relu(self.conv1(X))\n",
        "    X = F.max_pool2d(X, 2, 2)\n",
        "    X = F.relu(self.conv2(X))\n",
        "    X = F.max_pool2d(X, 2, 2)\n",
        "Flatten the data for the fully connected layers:\n",
        "    X = X.view(-1, 5*5*16)\n",
        "    X = F.relu(self.fc1(X))\n",
        "    X = self.fc2(X)\n",
        "    return F.log_softmax(X, dim=1)\n",
        "'''"
      ],
      "metadata": {
        "colab": {
          "base_uri": "https://localhost:8080/",
          "height": 123
        },
        "id": "Mx68h_U8g09T",
        "outputId": "1997f6bc-3ae4-4c34-e25e-f64d0e2f06e0"
      },
      "execution_count": 32,
      "outputs": [
        {
          "output_type": "execute_result",
          "data": {
            "text/plain": [
              "\"\\nSTEPS IN CNN Model:\\nExtend the base Module class:\\nclass ConvolutionalNetwork(nn.Module):\\n    def __init__(self):\\n        super().__init__()\\n\\nSet up the convolutional layers with torch.nn.Conv2d()\\n\\nThe first layer has one input channel (the grayscale color channel). We'll assign 6 output channels for feature extraction. We'll set our kernel size to 3 to make a 3x3 filter, and set the step size to 1.\\n    self.conv1 = nn.Conv2d(1, 6, 3, 1)\\nThe second layer will take our 6 input channels and deliver 16 output channels.\\n    self.conv2 = nn.Conv2d(6, 16, 3, 1)\\n\\n\\nSet up the fully connected layers with torch.nn.Linear().\\n\\nThe input size of (5x5x16) is determined by the effect of our kernels on the input image size. A 3x3 filter applied to a 28x28 image leaves a 1-pixel edge on all four sides. In one layer the size changes from 28x28 to 26x26. We could address this with zero-padding, but since an MNIST image is mostly black at the edges, we should be safe ignoring these pixels. We'll apply the kernel twice, and apply pooling layers twice, so our resulting output will be \\n(((28-2)/2)-2)/2 = 5.5 which rounds down to 5 pixels per side.\\n    self.fc1 = nn.Linear(5*5*16, 120)\\n    self.fc2 = nn.Linear(120, 84)\\n    self.fc3 = nn.Linear(84, 10)\\n\\nDefine the forward method.\\n\\nActivations can be applied to the convolutions in one line using F.relu() and pooling is done using F.max_pool2d()\\ndef forward(self, X):\\n    X = F.relu(self.conv1(X))\\n    X = F.max_pool2d(X, 2, 2)\\n    X = F.relu(self.conv2(X))\\n    X = F.max_pool2d(X, 2, 2)\\nFlatten the data for the fully connected layers:\\n    X = X.view(-1, 5*5*16)\\n    X = F.relu(self.fc1(X))\\n    X = self.fc2(X)\\n    return F.log_softmax(X, dim=1)\\n\""
            ],
            "application/vnd.google.colaboratory.intrinsic+json": {
              "type": "string"
            }
          },
          "metadata": {},
          "execution_count": 32
        }
      ]
    },
    {
      "cell_type": "code",
      "source": [
        "class ConvolutionalNetwork(nn.Module):\n",
        "    def __init__(self):\n",
        "        super().__init__()\n",
        "        self.conv1 = nn.Conv2d(1, 6, 3, 1)\n",
        "        self.conv2 = nn.Conv2d(6, 16, 3, 1)\n",
        "        self.fc1 = nn.Linear(5*5*16, 120)\n",
        "        self.fc2 = nn.Linear(120, 84)\n",
        "        self.fc3 = nn.Linear(84,10)\n",
        "\n",
        "    def forward(self, X):\n",
        "        X = F.relu(self.conv1(X))\n",
        "        X = F.max_pool2d(X, 2, 2)\n",
        "        X = F.relu(self.conv2(X))\n",
        "        X = F.max_pool2d(X, 2, 2)\n",
        "        X = X.view(-1, 5*5*16)\n",
        "        X = F.relu(self.fc1(X))\n",
        "        X = F.relu(self.fc2(X))\n",
        "        X = self.fc3(X)\n",
        "        return F.log_softmax(X, dim=1)"
      ],
      "metadata": {
        "id": "QdLmAZaHhmbW"
      },
      "execution_count": 33,
      "outputs": []
    },
    {
      "cell_type": "code",
      "source": [
        "torch.manual_seed(42)\n",
        "model = ConvolutionalNetwork()\n",
        "model"
      ],
      "metadata": {
        "colab": {
          "base_uri": "https://localhost:8080/"
        },
        "id": "sjAoQwrLoSvd",
        "outputId": "7104f80c-c8fa-44df-8306-3b6efe8a2524"
      },
      "execution_count": 34,
      "outputs": [
        {
          "output_type": "execute_result",
          "data": {
            "text/plain": [
              "ConvolutionalNetwork(\n",
              "  (conv1): Conv2d(1, 6, kernel_size=(3, 3), stride=(1, 1))\n",
              "  (conv2): Conv2d(6, 16, kernel_size=(3, 3), stride=(1, 1))\n",
              "  (fc1): Linear(in_features=400, out_features=120, bias=True)\n",
              "  (fc2): Linear(in_features=120, out_features=84, bias=True)\n",
              "  (fc3): Linear(in_features=84, out_features=10, bias=True)\n",
              ")"
            ]
          },
          "metadata": {},
          "execution_count": 34
        }
      ]
    },
    {
      "cell_type": "code",
      "source": [
        "#using loss function and optimizer\n",
        "criterion = nn.CrossEntropyLoss()\n",
        "optimizer = torch.optim.Adam(model.parameters(), lr=0.001)"
      ],
      "metadata": {
        "id": "3Dpc3LkxoWGP"
      },
      "execution_count": 35,
      "outputs": []
    },
    {
      "cell_type": "code",
      "source": [
        "#training the model\n",
        "import time\n",
        "start_time = time.time()\n",
        "\n",
        "epochs = 5\n",
        "train_losses = []\n",
        "test_losses = []\n",
        "train_correct = []\n",
        "test_correct = []\n",
        "\n",
        "for i in range(epochs):\n",
        "    trn_corr = 0\n",
        "    tst_corr = 0\n",
        "\n",
        "    # Run the training batches\n",
        "    for b, (X_train, y_train) in enumerate(train_loader):\n",
        "        b+=1\n",
        "\n",
        "        # Apply the model\n",
        "        y_pred = model(X_train)  # we don't flatten X-train here\n",
        "        loss = criterion(y_pred, y_train)\n",
        "\n",
        "        # Tally the number of correct predictions\n",
        "        predicted = torch.max(y_pred.data, 1)[1]\n",
        "        batch_corr = (predicted == y_train).sum()\n",
        "        trn_corr += batch_corr\n",
        "\n",
        "        # Update parameters\n",
        "        optimizer.zero_grad()\n",
        "        loss.backward()\n",
        "        optimizer.step()\n",
        "\n",
        "        # Print interim results\n",
        "        if b%600 == 0:\n",
        "            print(f'epoch: {i:2}  batch: {b:4} [{10*b:6}/60000]  loss: {loss.item():10.8f}  \\\n",
        "accuracy: {trn_corr.item()*100/(10*b):7.3f}%')\n",
        "\n",
        "    train_losses.append(loss)\n",
        "    train_correct.append(trn_corr)\n",
        "\n",
        "    # Run the testing batches\n",
        "    with torch.no_grad():\n",
        "        for b, (X_test, y_test) in enumerate(test_loader):\n",
        "\n",
        "            # Apply the model\n",
        "            y_val = model(X_test)\n",
        "\n",
        "            # Tally the number of correct predictions\n",
        "            predicted = torch.max(y_val.data, 1)[1]\n",
        "            tst_corr += (predicted == y_test).sum()\n",
        "\n",
        "    loss = criterion(y_val, y_test)\n",
        "    test_losses.append(loss)\n",
        "    test_correct.append(tst_corr)\n",
        "\n",
        "print(f'\\nDuration: {time.time() - start_time:.0f} seconds') # print the time elapsed"
      ],
      "metadata": {
        "colab": {
          "base_uri": "https://localhost:8080/"
        },
        "id": "NxhOCdcZpN1j",
        "outputId": "08e46dce-114d-4c51-9983-732de3ea8ddb"
      },
      "execution_count": 36,
      "outputs": [
        {
          "output_type": "stream",
          "name": "stdout",
          "text": [
            "epoch:  0  batch:  600 [  6000/60000]  loss: 0.04055627  accuracy:  78.417%\n",
            "epoch:  0  batch: 1200 [ 12000/60000]  loss: 0.08253475  accuracy:  85.800%\n",
            "epoch:  0  batch: 1800 [ 18000/60000]  loss: 0.36470491  accuracy:  88.689%\n",
            "epoch:  0  batch: 2400 [ 24000/60000]  loss: 0.01825025  accuracy:  90.525%\n",
            "epoch:  0  batch: 3000 [ 30000/60000]  loss: 0.00806704  accuracy:  91.650%\n",
            "epoch:  0  batch: 3600 [ 36000/60000]  loss: 0.00116694  accuracy:  92.503%\n",
            "epoch:  0  batch: 4200 [ 42000/60000]  loss: 0.52552539  accuracy:  93.152%\n",
            "epoch:  0  batch: 4800 [ 48000/60000]  loss: 0.03260820  accuracy:  93.617%\n",
            "epoch:  0  batch: 5400 [ 54000/60000]  loss: 0.00746816  accuracy:  94.028%\n",
            "epoch:  0  batch: 6000 [ 60000/60000]  loss: 0.03889676  accuracy:  94.340%\n",
            "epoch:  1  batch:  600 [  6000/60000]  loss: 0.03282820  accuracy:  97.817%\n",
            "epoch:  1  batch: 1200 [ 12000/60000]  loss: 0.04554177  accuracy:  97.867%\n",
            "epoch:  1  batch: 1800 [ 18000/60000]  loss: 0.00578480  accuracy:  97.939%\n",
            "epoch:  1  batch: 2400 [ 24000/60000]  loss: 0.02235614  accuracy:  97.879%\n",
            "epoch:  1  batch: 3000 [ 30000/60000]  loss: 0.21643038  accuracy:  97.897%\n",
            "epoch:  1  batch: 3600 [ 36000/60000]  loss: 0.00501452  accuracy:  97.906%\n",
            "epoch:  1  batch: 4200 [ 42000/60000]  loss: 0.00045869  accuracy:  97.974%\n",
            "epoch:  1  batch: 4800 [ 48000/60000]  loss: 0.00192951  accuracy:  97.996%\n",
            "epoch:  1  batch: 5400 [ 54000/60000]  loss: 0.00085962  accuracy:  98.004%\n",
            "epoch:  1  batch: 6000 [ 60000/60000]  loss: 0.08304359  accuracy:  98.007%\n",
            "epoch:  2  batch:  600 [  6000/60000]  loss: 0.00063734  accuracy:  98.683%\n",
            "epoch:  2  batch: 1200 [ 12000/60000]  loss: 0.00153934  accuracy:  98.542%\n",
            "epoch:  2  batch: 1800 [ 18000/60000]  loss: 0.00128017  accuracy:  98.478%\n",
            "epoch:  2  batch: 2400 [ 24000/60000]  loss: 0.00139678  accuracy:  98.533%\n",
            "epoch:  2  batch: 3000 [ 30000/60000]  loss: 0.30444741  accuracy:  98.467%\n",
            "epoch:  2  batch: 3600 [ 36000/60000]  loss: 0.01445190  accuracy:  98.461%\n",
            "epoch:  2  batch: 4200 [ 42000/60000]  loss: 0.02198282  accuracy:  98.483%\n",
            "epoch:  2  batch: 4800 [ 48000/60000]  loss: 0.00078029  accuracy:  98.496%\n",
            "epoch:  2  batch: 5400 [ 54000/60000]  loss: 0.00168332  accuracy:  98.498%\n",
            "epoch:  2  batch: 6000 [ 60000/60000]  loss: 0.00020764  accuracy:  98.492%\n",
            "epoch:  3  batch:  600 [  6000/60000]  loss: 0.00079474  accuracy:  98.883%\n",
            "epoch:  3  batch: 1200 [ 12000/60000]  loss: 0.00203867  accuracy:  99.017%\n",
            "epoch:  3  batch: 1800 [ 18000/60000]  loss: 0.00046899  accuracy:  99.028%\n",
            "epoch:  3  batch: 2400 [ 24000/60000]  loss: 0.00021816  accuracy:  98.938%\n",
            "epoch:  3  batch: 3000 [ 30000/60000]  loss: 0.03142365  accuracy:  98.933%\n",
            "epoch:  3  batch: 3600 [ 36000/60000]  loss: 0.00734946  accuracy:  98.875%\n",
            "epoch:  3  batch: 4200 [ 42000/60000]  loss: 0.00061036  accuracy:  98.893%\n",
            "epoch:  3  batch: 4800 [ 48000/60000]  loss: 0.13828447  accuracy:  98.902%\n",
            "epoch:  3  batch: 5400 [ 54000/60000]  loss: 0.00074584  accuracy:  98.898%\n",
            "epoch:  3  batch: 6000 [ 60000/60000]  loss: 0.02092968  accuracy:  98.897%\n",
            "epoch:  4  batch:  600 [  6000/60000]  loss: 0.00093785  accuracy:  99.250%\n",
            "epoch:  4  batch: 1200 [ 12000/60000]  loss: 0.19402172  accuracy:  99.158%\n",
            "epoch:  4  batch: 1800 [ 18000/60000]  loss: 0.00067582  accuracy:  99.067%\n",
            "epoch:  4  batch: 2400 [ 24000/60000]  loss: 0.00019682  accuracy:  99.067%\n",
            "epoch:  4  batch: 3000 [ 30000/60000]  loss: 0.00540381  accuracy:  99.033%\n",
            "epoch:  4  batch: 3600 [ 36000/60000]  loss: 0.00058351  accuracy:  99.056%\n",
            "epoch:  4  batch: 4200 [ 42000/60000]  loss: 0.00117376  accuracy:  99.069%\n",
            "epoch:  4  batch: 4800 [ 48000/60000]  loss: 0.00185656  accuracy:  99.017%\n",
            "epoch:  4  batch: 5400 [ 54000/60000]  loss: 0.00024844  accuracy:  98.993%\n",
            "epoch:  4  batch: 6000 [ 60000/60000]  loss: 0.00652279  accuracy:  99.002%\n",
            "\n",
            "Duration: 192 seconds\n"
          ]
        }
      ]
    },
    {
      "cell_type": "code",
      "source": [
        "# Extract the data all at once, not in batches\n",
        "test_load_all = DataLoader(test_data, batch_size=10000, shuffle=False)"
      ],
      "metadata": {
        "id": "WFpNOXV7pX7c"
      },
      "execution_count": 37,
      "outputs": []
    },
    {
      "cell_type": "code",
      "source": [
        "with torch.no_grad():\n",
        "    correct = 0\n",
        "    for X_test, y_test in test_load_all:\n",
        "        y_val = model(X_test)  # we don't flatten the data this time\n",
        "        predicted = torch.max(y_val,1)[1]\n",
        "        correct += (predicted == y_test).sum()\n",
        "print(f'Test accuracy: {correct.item()}/{len(test_data)} = {correct.item()*100/(len(test_data)):7.3f}%')"
      ],
      "metadata": {
        "colab": {
          "base_uri": "https://localhost:8080/"
        },
        "id": "GZbClNzsqRqA",
        "outputId": "626edaeb-4e65-46d6-cf9c-398dd27321ff"
      },
      "execution_count": 38,
      "outputs": [
        {
          "output_type": "stream",
          "name": "stdout",
          "text": [
            "Test accuracy: 9889/10000 =  98.890%\n"
          ]
        }
      ]
    },
    {
      "cell_type": "code",
      "source": [
        "# print a row of values for reference\n",
        "np.set_printoptions(formatter=dict(int=lambda x: f'{x:4}'))\n",
        "print(np.arange(10).reshape(1,10))\n",
        "print()\n",
        "\n",
        "# print the confusion matrix\n",
        "print(confusion_matrix(predicted.view(-1), y_test.view(-1)))"
      ],
      "metadata": {
        "colab": {
          "base_uri": "https://localhost:8080/"
        },
        "id": "TDf8c4t_qVgL",
        "outputId": "c8159d42-b6fc-4ac5-da1c-22e9a2c8f6a5"
      },
      "execution_count": 39,
      "outputs": [
        {
          "output_type": "stream",
          "name": "stdout",
          "text": [
            "[[   0    1    2    3    4    5    6    7    8    9]]\n",
            "\n",
            "[[ 977    3    1    0    0    2    4    1    4    0]\n",
            " [   0 1130    2    0    0    0    1    4    0    3]\n",
            " [   0    1 1022    0    0    0    0    4    2    0]\n",
            " [   0    0    3 1007    0    7    0    2    2    2]\n",
            " [   0    0    1    0  971    0    1    0    0    5]\n",
            " [   0    0    0    1    0  879    7    0    1    5]\n",
            " [   1    1    0    0    4    2  944    0    1    0]\n",
            " [   1    0    3    0    0    0    0 1013    1    2]\n",
            " [   1    0    0    2    1    1    1    1  962    8]\n",
            " [   0    0    0    0    6    1    0    3    1  984]]\n"
          ]
        }
      ]
    },
    {
      "cell_type": "code",
      "source": [
        "print(classification_report(predicted.view(-1), y_test.view(-1)))"
      ],
      "metadata": {
        "colab": {
          "base_uri": "https://localhost:8080/"
        },
        "id": "2K7YRB7-qhKv",
        "outputId": "0299c25e-b3c9-4d72-de79-e5ba1f0687de"
      },
      "execution_count": 40,
      "outputs": [
        {
          "output_type": "stream",
          "name": "stdout",
          "text": [
            "              precision    recall  f1-score   support\n",
            "\n",
            "           0       1.00      0.98      0.99       992\n",
            "           1       1.00      0.99      0.99      1140\n",
            "           2       0.99      0.99      0.99      1029\n",
            "           3       1.00      0.98      0.99      1023\n",
            "           4       0.99      0.99      0.99       978\n",
            "           5       0.99      0.98      0.98       893\n",
            "           6       0.99      0.99      0.99       953\n",
            "           7       0.99      0.99      0.99      1020\n",
            "           8       0.99      0.98      0.99       977\n",
            "           9       0.98      0.99      0.98       995\n",
            "\n",
            "    accuracy                           0.99     10000\n",
            "   macro avg       0.99      0.99      0.99     10000\n",
            "weighted avg       0.99      0.99      0.99     10000\n",
            "\n"
          ]
        }
      ]
    },
    {
      "cell_type": "code",
      "source": [
        "x = 2019\n",
        "plt.figure(figsize=(1,1))\n",
        "plt.imshow(test_data[x][0].reshape((28,28)), cmap=\"gist_yarg\");"
      ],
      "metadata": {
        "colab": {
          "base_uri": "https://localhost:8080/",
          "height": 141
        },
        "id": "f-Z_hw4sraS6",
        "outputId": "e8f09856-b0c8-4d57-8c76-6e32cbad101e"
      },
      "execution_count": 41,
      "outputs": [
        {
          "output_type": "display_data",
          "data": {
            "text/plain": [
              "<Figure size 100x100 with 1 Axes>"
            ],
            "image/png": "[encoded data removed]"
          },
          "metadata": {}
        }
      ]
    },
    {
      "cell_type": "code",
      "source": [
        "model.eval()\n",
        "with torch.no_grad():\n",
        "    new_pred = model(test_data[x][0].view(1,1,28,28)).argmax()\n",
        "print(\"Predicted value:\",new_pred.item())"
      ],
      "metadata": {
        "colab": {
          "base_uri": "https://localhost:8080/"
        },
        "id": "k08RB4enrqhK",
        "outputId": "5ac3c34c-98a8-4e58-8afb-9160a00c9c4a"
      },
      "execution_count": 42,
      "outputs": [
        {
          "output_type": "stream",
          "name": "stdout",
          "text": [
            "Predicted value: 9\n"
          ]
        }
      ]
    },
    {
      "cell_type": "code",
      "source": [
        "#ABOVE THE CNN MODEL MADE CORRECT PREDICTION."
      ],
      "metadata": {
        "id": "LKOvHvrkrsNn"
      },
      "execution_count": null,
      "outputs": []
    }
  ]
}